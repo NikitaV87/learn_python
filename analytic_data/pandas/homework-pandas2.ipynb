{
 "cells": [
  {
   "cell_type": "markdown",
   "metadata": {
    "colab_type": "text",
    "id": "IRzgxJDujF9X"
   },
   "source": [
    "# Библиотека `pandas`: часть 2\n",
    "\n",
    "*Алла Тамбовцева*\n",
    "\n",
    "## Домашнее задание \n",
    "\n",
    "### Описание домашнего задания и формат сдачи\n",
    "\n",
    "В домашнем задании необходимо решить предложенные задачи по программированию – вписать свой код в ячейки после условий задач вместо комментария `### YOUR CODE HERE ###` в файле *homework-pandas2.ipynb* и сохранить изменения, используя опцию *Save and Checkpoint* из вкладки меню *File* или кнопку *Save and Checkpoint* на панели инструментов. Итоговый файл в формате `.ipynb` (файл Jupyter Notebook) необходимо загрузить в личный кабинет обучающей онлайн платформы Skillbox (https://go.skillbox.ru/) и отправить на проверку."
   ]
  },
  {
   "cell_type": "markdown",
   "metadata": {
    "colab_type": "text",
    "id": "y_pBPl8ajF9k"
   },
   "source": [
    "Файл `Fishing.csv` содержит результаты опроса о рыбалке: респонденты, заполняя опросник, подробно описывали свою недавнюю рыбалку.\n",
    "\n",
    "**Описание переменных в датафрейме:**\n",
    "\n",
    "\n",
    "* `mode`: выбранный тип рыбалки: на берегу (`beach`), на пирсе (`pier`), в своей лодке (`boat`) и в арендованной лодке (`charter`);\n",
    "\n",
    "* `price`: стоимость выбранного типа рыбалки;\n",
    "\n",
    "* `catch`: коэффициент улова при выбранном типе рыбалки;\n",
    "\n",
    "* `pbeach`: стоимость рыбалки на берегу;\n",
    "\n",
    "* `ppier`: стоимость рыбалки на пирсе;\n",
    "\n",
    "* `pboat`: стоимость рыбалки на своей лодке;\n",
    "\n",
    "* `pcharter`: стоимость рыбалки на арендованной лодке;\n",
    "\n",
    "* `cbeach`: коэффициент улова на рыбалке на берегу;\n",
    "\n",
    "* `cpier`: коэффициент улова на рыбалке на пирсе;\n",
    "\n",
    "* `cboat`: коэффициент улова на рыбалке на своей лодке;\n",
    "\n",
    "* `ccharter`: коэффициент улова на рыбалке на арендованной лодке;\n",
    "\n",
    "* `income`: доход в месяц.\n",
    "\n",
    "Подробнее об опросе и исследовании можно почитать в [статье](https://core.ac.uk/download/pdf/38934845.pdf) J.Herriges, C.Kling *\"Nonlinear Income Effects in Random Utility Models\"* (1999)."
   ]
  },
  {
   "cell_type": "markdown",
   "metadata": {
    "colab_type": "text",
    "id": "S3vpJhOfjF9o"
   },
   "source": [
    "### Задание 1\n",
    "\n",
    "Загрузить таблицу из файла `Fishing.csv` и сохранить её в датафрейм `dat`. \n",
    "Вывести на экран первые 8 строк загруженного датафрейма."
   ]
  },
  {
   "cell_type": "code",
   "execution_count": 441,
   "metadata": {
    "colab": {},
    "colab_type": "code",
    "id": "i5C7RZxOjF9u"
   },
   "outputs": [],
   "source": [
    "import pandas as pd\n",
    "import numpy as np\n",
    "\n",
    "dat = pd.read_csv('Fishing.csv')"
   ]
  },
  {
   "cell_type": "markdown",
   "metadata": {
    "colab_type": "text",
    "id": "x6MuTfpUjF-F"
   },
   "source": [
    "### Задание 2\n",
    "\n",
    "Добавить, используя метод `.apply()`, столбец `log_income`, содержащий натуральный логарифм доходов респондентов."
   ]
  },
  {
   "cell_type": "code",
   "execution_count": 442,
   "metadata": {
    "colab": {},
    "colab_type": "code",
    "id": "L091ksP8jF-K"
   },
   "outputs": [
    {
     "data": {
      "text/html": [
       "<div>\n",
       "<style scoped>\n",
       "    .dataframe tbody tr th:only-of-type {\n",
       "        vertical-align: middle;\n",
       "    }\n",
       "\n",
       "    .dataframe tbody tr th {\n",
       "        vertical-align: top;\n",
       "    }\n",
       "\n",
       "    .dataframe thead th {\n",
       "        text-align: right;\n",
       "    }\n",
       "</style>\n",
       "<table border=\"1\" class=\"dataframe\">\n",
       "  <thead>\n",
       "    <tr style=\"text-align: right;\">\n",
       "      <th></th>\n",
       "      <th>Unnamed: 0</th>\n",
       "      <th>Unnamed: 0.1</th>\n",
       "      <th>mode</th>\n",
       "      <th>price</th>\n",
       "      <th>catch</th>\n",
       "      <th>pbeach</th>\n",
       "      <th>ppier</th>\n",
       "      <th>pboat</th>\n",
       "      <th>pcharter</th>\n",
       "      <th>cbeach</th>\n",
       "      <th>cpier</th>\n",
       "      <th>cboat</th>\n",
       "      <th>ccharter</th>\n",
       "      <th>income</th>\n",
       "      <th>log_income</th>\n",
       "    </tr>\n",
       "  </thead>\n",
       "  <tbody>\n",
       "    <tr>\n",
       "      <th>0</th>\n",
       "      <td>0</td>\n",
       "      <td>1</td>\n",
       "      <td>charter</td>\n",
       "      <td>182.930</td>\n",
       "      <td>0.5391</td>\n",
       "      <td>157.930</td>\n",
       "      <td>157.930</td>\n",
       "      <td>157.930</td>\n",
       "      <td>182.930</td>\n",
       "      <td>0.0678</td>\n",
       "      <td>0.0503</td>\n",
       "      <td>0.2601</td>\n",
       "      <td>0.5391</td>\n",
       "      <td>7083.33170</td>\n",
       "      <td>8.865500</td>\n",
       "    </tr>\n",
       "    <tr>\n",
       "      <th>1</th>\n",
       "      <td>1</td>\n",
       "      <td>2</td>\n",
       "      <td>charter</td>\n",
       "      <td>34.534</td>\n",
       "      <td>0.4671</td>\n",
       "      <td>15.114</td>\n",
       "      <td>15.114</td>\n",
       "      <td>10.534</td>\n",
       "      <td>34.534</td>\n",
       "      <td>0.1049</td>\n",
       "      <td>0.0451</td>\n",
       "      <td>0.1574</td>\n",
       "      <td>0.4671</td>\n",
       "      <td>1249.99980</td>\n",
       "      <td>7.130899</td>\n",
       "    </tr>\n",
       "    <tr>\n",
       "      <th>2</th>\n",
       "      <td>2</td>\n",
       "      <td>3</td>\n",
       "      <td>boat</td>\n",
       "      <td>24.334</td>\n",
       "      <td>0.2413</td>\n",
       "      <td>161.874</td>\n",
       "      <td>161.874</td>\n",
       "      <td>24.334</td>\n",
       "      <td>59.334</td>\n",
       "      <td>0.5333</td>\n",
       "      <td>0.4522</td>\n",
       "      <td>0.2413</td>\n",
       "      <td>1.0266</td>\n",
       "      <td>3749.99990</td>\n",
       "      <td>8.229511</td>\n",
       "    </tr>\n",
       "    <tr>\n",
       "      <th>3</th>\n",
       "      <td>3</td>\n",
       "      <td>4</td>\n",
       "      <td>pier</td>\n",
       "      <td>15.134</td>\n",
       "      <td>0.0789</td>\n",
       "      <td>15.134</td>\n",
       "      <td>15.134</td>\n",
       "      <td>55.930</td>\n",
       "      <td>84.930</td>\n",
       "      <td>0.0678</td>\n",
       "      <td>0.0789</td>\n",
       "      <td>0.1643</td>\n",
       "      <td>0.5391</td>\n",
       "      <td>2083.33320</td>\n",
       "      <td>7.641724</td>\n",
       "    </tr>\n",
       "    <tr>\n",
       "      <th>4</th>\n",
       "      <td>4</td>\n",
       "      <td>5</td>\n",
       "      <td>boat</td>\n",
       "      <td>41.514</td>\n",
       "      <td>0.1082</td>\n",
       "      <td>106.930</td>\n",
       "      <td>106.930</td>\n",
       "      <td>41.514</td>\n",
       "      <td>71.014</td>\n",
       "      <td>0.0678</td>\n",
       "      <td>0.0503</td>\n",
       "      <td>0.1082</td>\n",
       "      <td>0.3240</td>\n",
       "      <td>4583.33200</td>\n",
       "      <td>8.430182</td>\n",
       "    </tr>\n",
       "    <tr>\n",
       "      <th>...</th>\n",
       "      <td>...</td>\n",
       "      <td>...</td>\n",
       "      <td>...</td>\n",
       "      <td>...</td>\n",
       "      <td>...</td>\n",
       "      <td>...</td>\n",
       "      <td>...</td>\n",
       "      <td>...</td>\n",
       "      <td>...</td>\n",
       "      <td>...</td>\n",
       "      <td>...</td>\n",
       "      <td>...</td>\n",
       "      <td>...</td>\n",
       "      <td>...</td>\n",
       "      <td>...</td>\n",
       "    </tr>\n",
       "    <tr>\n",
       "      <th>1177</th>\n",
       "      <td>1177</td>\n",
       "      <td>1178</td>\n",
       "      <td>pier</td>\n",
       "      <td>150.236</td>\n",
       "      <td>0.4522</td>\n",
       "      <td>150.236</td>\n",
       "      <td>150.236</td>\n",
       "      <td>250.746</td>\n",
       "      <td>285.746</td>\n",
       "      <td>0.5333</td>\n",
       "      <td>0.4522</td>\n",
       "      <td>0.2413</td>\n",
       "      <td>1.0266</td>\n",
       "      <td>3749.99990</td>\n",
       "      <td>8.229511</td>\n",
       "    </tr>\n",
       "    <tr>\n",
       "      <th>1178</th>\n",
       "      <td>1178</td>\n",
       "      <td>1179</td>\n",
       "      <td>beach</td>\n",
       "      <td>235.436</td>\n",
       "      <td>0.5333</td>\n",
       "      <td>235.436</td>\n",
       "      <td>235.436</td>\n",
       "      <td>392.946</td>\n",
       "      <td>427.946</td>\n",
       "      <td>0.5333</td>\n",
       "      <td>0.4522</td>\n",
       "      <td>0.2413</td>\n",
       "      <td>1.0266</td>\n",
       "      <td>6250.00130</td>\n",
       "      <td>8.740337</td>\n",
       "    </tr>\n",
       "    <tr>\n",
       "      <th>1179</th>\n",
       "      <td>1179</td>\n",
       "      <td>1180</td>\n",
       "      <td>pier</td>\n",
       "      <td>65.036</td>\n",
       "      <td>0.4522</td>\n",
       "      <td>65.036</td>\n",
       "      <td>65.036</td>\n",
       "      <td>108.546</td>\n",
       "      <td>143.546</td>\n",
       "      <td>0.5333</td>\n",
       "      <td>0.4522</td>\n",
       "      <td>0.2413</td>\n",
       "      <td>1.0266</td>\n",
       "      <td>1249.99980</td>\n",
       "      <td>7.130899</td>\n",
       "    </tr>\n",
       "    <tr>\n",
       "      <th>1180</th>\n",
       "      <td>1180</td>\n",
       "      <td>1181</td>\n",
       "      <td>beach</td>\n",
       "      <td>36.636</td>\n",
       "      <td>0.5333</td>\n",
       "      <td>36.636</td>\n",
       "      <td>36.636</td>\n",
       "      <td>61.146</td>\n",
       "      <td>96.146</td>\n",
       "      <td>0.5333</td>\n",
       "      <td>0.4522</td>\n",
       "      <td>0.1665</td>\n",
       "      <td>0.3975</td>\n",
       "      <td>416.66668</td>\n",
       "      <td>6.032287</td>\n",
       "    </tr>\n",
       "    <tr>\n",
       "      <th>1181</th>\n",
       "      <td>1181</td>\n",
       "      <td>1182</td>\n",
       "      <td>boat</td>\n",
       "      <td>235.436</td>\n",
       "      <td>0.6817</td>\n",
       "      <td>339.890</td>\n",
       "      <td>339.890</td>\n",
       "      <td>235.436</td>\n",
       "      <td>260.436</td>\n",
       "      <td>0.2537</td>\n",
       "      <td>0.1498</td>\n",
       "      <td>0.6817</td>\n",
       "      <td>2.3014</td>\n",
       "      <td>6250.00130</td>\n",
       "      <td>8.740337</td>\n",
       "    </tr>\n",
       "  </tbody>\n",
       "</table>\n",
       "<p>1182 rows × 15 columns</p>\n",
       "</div>"
      ],
      "text/plain": [
       "      Unnamed: 0  Unnamed: 0.1     mode    price   catch   pbeach    ppier  \\\n",
       "0              0             1  charter  182.930  0.5391  157.930  157.930   \n",
       "1              1             2  charter   34.534  0.4671   15.114   15.114   \n",
       "2              2             3     boat   24.334  0.2413  161.874  161.874   \n",
       "3              3             4     pier   15.134  0.0789   15.134   15.134   \n",
       "4              4             5     boat   41.514  0.1082  106.930  106.930   \n",
       "...          ...           ...      ...      ...     ...      ...      ...   \n",
       "1177        1177          1178     pier  150.236  0.4522  150.236  150.236   \n",
       "1178        1178          1179    beach  235.436  0.5333  235.436  235.436   \n",
       "1179        1179          1180     pier   65.036  0.4522   65.036   65.036   \n",
       "1180        1180          1181    beach   36.636  0.5333   36.636   36.636   \n",
       "1181        1181          1182     boat  235.436  0.6817  339.890  339.890   \n",
       "\n",
       "        pboat  pcharter  cbeach   cpier   cboat  ccharter      income  \\\n",
       "0     157.930   182.930  0.0678  0.0503  0.2601    0.5391  7083.33170   \n",
       "1      10.534    34.534  0.1049  0.0451  0.1574    0.4671  1249.99980   \n",
       "2      24.334    59.334  0.5333  0.4522  0.2413    1.0266  3749.99990   \n",
       "3      55.930    84.930  0.0678  0.0789  0.1643    0.5391  2083.33320   \n",
       "4      41.514    71.014  0.0678  0.0503  0.1082    0.3240  4583.33200   \n",
       "...       ...       ...     ...     ...     ...       ...         ...   \n",
       "1177  250.746   285.746  0.5333  0.4522  0.2413    1.0266  3749.99990   \n",
       "1178  392.946   427.946  0.5333  0.4522  0.2413    1.0266  6250.00130   \n",
       "1179  108.546   143.546  0.5333  0.4522  0.2413    1.0266  1249.99980   \n",
       "1180   61.146    96.146  0.5333  0.4522  0.1665    0.3975   416.66668   \n",
       "1181  235.436   260.436  0.2537  0.1498  0.6817    2.3014  6250.00130   \n",
       "\n",
       "      log_income  \n",
       "0       8.865500  \n",
       "1       7.130899  \n",
       "2       8.229511  \n",
       "3       7.641724  \n",
       "4       8.430182  \n",
       "...          ...  \n",
       "1177    8.229511  \n",
       "1178    8.740337  \n",
       "1179    7.130899  \n",
       "1180    6.032287  \n",
       "1181    8.740337  \n",
       "\n",
       "[1182 rows x 15 columns]"
      ]
     },
     "execution_count": 442,
     "metadata": {},
     "output_type": "execute_result"
    }
   ],
   "source": [
    "dat['log_income'] = dat['income'].apply(np.log)\n",
    "dat"
   ]
  },
  {
   "cell_type": "markdown",
   "metadata": {
    "colab_type": "text",
    "id": "OEX7QOpHjF-V"
   },
   "source": [
    "### Задание 3\n",
    "\n",
    "Посчитать для каждого респондента абсолютное значение отклонения `price` от `pbeach`  и сохранить результат в столбец `pdiff`.\n",
    "\n",
    "***Подсказка 1:*** для нахождения абсолютного значения числа используется функция `abs()`. Пример:\n",
    "\n",
    "    abs(-8)\n",
    "    8\n",
    "\n",
    "***Подсказка 2:*** пример с lamda-функцией в первом уроке этого модуля."
   ]
  },
  {
   "cell_type": "code",
   "execution_count": 443,
   "metadata": {
    "colab": {},
    "colab_type": "code",
    "id": "WLaz3gmVjF-Y"
   },
   "outputs": [],
   "source": [
    "abs_diff_value = lambda val: abs(val.iloc[0]-val.iloc[1])\n",
    "\n",
    "dat['pdiff'] = dat.loc[:,['price','pbeach']].apply(abs_diff_value, axis=1)"
   ]
  },
  {
   "cell_type": "markdown",
   "metadata": {
    "colab_type": "text",
    "id": "u15HSI6SjF-f"
   },
   "source": [
    "### Задание 4\n",
    "\n",
    "Сгруппировать наблюдения в таблице по признаку тип рыбалки (`mode`) и вывести для каждого типа среднюю цену (`price`), которую респонденты заплатили за рыбалку."
   ]
  },
  {
   "cell_type": "code",
   "execution_count": 444,
   "metadata": {
    "colab": {},
    "colab_type": "code",
    "id": "o2J6et18jF-j"
   },
   "outputs": [
    {
     "data": {
      "text/plain": [
       "mode\n",
       "beach      35.699493\n",
       "boat       41.606813\n",
       "charter    75.096942\n",
       "pier       30.571326\n",
       "Name: price, dtype: float64"
      ]
     },
     "execution_count": 444,
     "metadata": {},
     "output_type": "execute_result"
    }
   ],
   "source": [
    "dat.groupby('mode')['price'].agg('mean')"
   ]
  },
  {
   "cell_type": "markdown",
   "metadata": {
    "colab_type": "text",
    "id": "KxeyzFlDjF-s"
   },
   "source": [
    "### Задание 5\n",
    "\n",
    "Сгруппировать наблюдения в таблице по признаку тип рыбалки (`mode`) и вывести для каждого типа разницу между медианным и средним значением цены (`price`), которую респонденты заплатили за рыбалку.\n",
    "\n",
    "**Посказка:** можно написать свою lambda-функцию для подсчёта разницы между медианой и средним и применить её внутри метода для агрегирования. Внимание: название самостоятельно написанной функции будет уже вводиться без кавычек. "
   ]
  },
  {
   "cell_type": "code",
   "execution_count": 445,
   "metadata": {
    "colab": {},
    "colab_type": "code",
    "id": "oBhzhp9AjF-u"
   },
   "outputs": [
    {
     "data": {
      "text/plain": [
       "mode\n",
       "beach      16.391493\n",
       "boat       17.004813\n",
       "charter    18.226942\n",
       "pier       13.942326\n",
       "Name: price, dtype: float64"
      ]
     },
     "execution_count": 445,
     "metadata": {},
     "output_type": "execute_result"
    }
   ],
   "source": [
    "def diff_mean_median(val: pd.Series) -> np.array:\n",
    "    return np.abs(val.mean() - val.median())\n",
    "\n",
    "dat.groupby('mode')['price'].agg(diff_mean_median)"
   ]
  },
  {
   "cell_type": "markdown",
   "metadata": {
    "colab_type": "text",
    "id": "I5xSKReCjF-3"
   },
   "source": [
    "### Задание 6\n",
    "\n",
    "Сгруппировать наблюдения в таблице по признаку тип рыбалки (`mode`) и сохранить полученные датафреймы (один для каждого типа рыбалки) в отдельные csv-файлы. В итоге должно получиться четыре разных csv-файла.\n",
    "\n",
    "**Подсказка 1:** можно запустить следующий код и посмотреть, что получится: "
   ]
  },
  {
   "cell_type": "code",
   "execution_count": 446,
   "metadata": {
    "colab": {},
    "colab_type": "code",
    "id": "HmIG6WIejF-6"
   },
   "outputs": [
    {
     "name": "stdout",
     "output_type": "stream",
     "text": [
      "beach       Unnamed: 0  Unnamed: 0.1   mode    price   catch   pbeach    ppier  \\\n",
      "6              6             7  beach   51.934  0.0678   51.934   51.934   \n",
      "14            14            15  beach   74.514  0.2537   74.514   74.514   \n",
      "16            16            17  beach   48.114  0.1049   48.114   48.114   \n",
      "25            25            26  beach   67.784  0.5333   67.784   67.784   \n",
      "33            33            34  beach    9.522  0.0678    9.522    9.522   \n",
      "...          ...           ...    ...      ...     ...      ...      ...   \n",
      "1167        1167          1168  beach   23.688  0.5333   23.688   23.688   \n",
      "1173        1173          1174  beach   62.634  0.0678   62.634   62.634   \n",
      "1176        1176          1177  beach  121.836  0.5333  121.836  121.836   \n",
      "1178        1178          1179  beach  235.436  0.5333  235.436  235.436   \n",
      "1180        1180          1181  beach   36.636  0.5333   36.636   36.636   \n",
      "\n",
      "        pboat  pcharter  cbeach   cpier   cboat  ccharter      income  \\\n",
      "6     191.930   220.930  0.0678  0.0789  0.1643    0.5391  8750.00100   \n",
      "14     74.514    93.014  0.2537  0.1498  0.2339    0.6288  8750.00100   \n",
      "16     33.534    57.534  0.1049  0.0451  0.1574    0.4671  5416.66670   \n",
      "25     17.862    52.862  0.5333  0.4522  0.2413    1.0266  1249.99980   \n",
      "33     78.292   107.292  0.0678  0.0789  0.0014    0.0029  3749.99990   \n",
      "...       ...       ...     ...     ...     ...       ...         ...   \n",
      "1167  139.496   174.496  0.5333  0.4522  0.0156    0.0058  2083.33320   \n",
      "1173  123.552   152.552  0.0678  0.0789  0.0014    0.0029  2916.66660   \n",
      "1176  203.346   238.346  0.5333  0.4522  0.2413    1.0266  2916.66660   \n",
      "1178  392.946   427.946  0.5333  0.4522  0.2413    1.0266  6250.00130   \n",
      "1180   61.146    96.146  0.5333  0.4522  0.1665    0.3975   416.66668   \n",
      "\n",
      "      log_income  pdiff  \n",
      "6       9.076809    0.0  \n",
      "14      9.076809    0.0  \n",
      "16      8.597236    0.0  \n",
      "25      7.130899    0.0  \n",
      "33      8.229511    0.0  \n",
      "...          ...    ...  \n",
      "1167    7.641724    0.0  \n",
      "1173    7.978197    0.0  \n",
      "1176    7.978197    0.0  \n",
      "1178    8.740337    0.0  \n",
      "1180    6.032287    0.0  \n",
      "\n",
      "[134 rows x 16 columns]\n",
      "boat       Unnamed: 0  Unnamed: 0.1  mode    price   catch   pbeach    ppier  \\\n",
      "2              2             3  boat   24.334  0.2413  161.874  161.874   \n",
      "4              4             5  boat   41.514  0.1082  106.930  106.930   \n",
      "8              8             9  boat   34.914  0.0233   34.914   34.914   \n",
      "9              9            10  boat   28.314  0.0233   28.314   28.314   \n",
      "11            11            12  boat   16.722  0.2413  312.144  312.144   \n",
      "...          ...           ...   ...      ...     ...      ...      ...   \n",
      "1164        1164          1165  boat   69.476  0.0102  388.434  388.434   \n",
      "1170        1170          1171  boat  106.434  0.2413  255.150  255.150   \n",
      "1171        1171          1172  boat  155.802  0.0108  164.834  164.834   \n",
      "1174        1174          1175  boat   86.802  0.0102   91.834   91.834   \n",
      "1181        1181          1182  boat  235.436  0.6817  339.890  339.890   \n",
      "\n",
      "        pboat  pcharter  cbeach   cpier   cboat  ccharter      income  \\\n",
      "2      24.334    59.334  0.5333  0.4522  0.2413    1.0266   3749.9999   \n",
      "4      41.514    71.014  0.0678  0.0503  0.1082    0.3240   4583.3320   \n",
      "8      34.914    53.414  0.2537  0.1498  0.0233    0.0219   3749.9999   \n",
      "9      28.314    46.814  0.2537  0.1498  0.0233    0.0219   2916.6666   \n",
      "11     16.722    51.722  0.5333  0.4522  0.2413    1.0266   7083.3317   \n",
      "...       ...       ...     ...     ...     ...       ...         ...   \n",
      "1164   69.476   104.476  0.0678  0.0789  0.0102    0.0209  12499.9980   \n",
      "1170  106.434   141.434  0.5333  0.4522  0.2413    1.0266   5416.6667   \n",
      "1171  155.802   190.802  0.0678  0.0025  0.0108    0.2377   8750.0010   \n",
      "1174   86.802   121.802  0.0678  0.0789  0.0102    0.0209   4583.3320   \n",
      "1181  235.436   260.436  0.2537  0.1498  0.6817    2.3014   6250.0013   \n",
      "\n",
      "      log_income    pdiff  \n",
      "2       8.229511  137.540  \n",
      "4       8.430182   65.416  \n",
      "8       8.229511    0.000  \n",
      "9       7.978197    0.000  \n",
      "11      8.865500  295.422  \n",
      "...          ...      ...  \n",
      "1164    9.433484  318.958  \n",
      "1170    8.597236  148.716  \n",
      "1171    9.076809    9.032  \n",
      "1174    8.430182    5.032  \n",
      "1181    8.740337  104.454  \n",
      "\n",
      "[418 rows x 16 columns]\n",
      "charter       Unnamed: 0  Unnamed: 0.1     mode    price   catch   pbeach    ppier  \\\n",
      "0              0             1  charter  182.930  0.5391  157.930  157.930   \n",
      "1              1             2  charter   34.534  0.4671   15.114   15.114   \n",
      "5              5             6  charter   63.934  0.3975  192.474  192.474   \n",
      "7              7             8  charter   56.714  0.0209   15.134   15.134   \n",
      "20            20            21  charter   53.522  0.0058  345.744  345.744   \n",
      "...          ...           ...      ...      ...     ...      ...      ...   \n",
      "1161        1161          1162  charter   74.572  2.3014   32.076   32.076   \n",
      "1165        1165          1166  charter   55.888  2.3014   97.812   97.812   \n",
      "1168        1168          1169  charter  132.812  1.0905  181.896  181.896   \n",
      "1172        1172          1173  charter   63.902  0.0219   45.402   45.402   \n",
      "1175        1175          1176  charter  149.402  0.0209  121.034  121.034   \n",
      "\n",
      "        pboat  pcharter  cbeach   cpier   cboat  ccharter     income  \\\n",
      "0     157.930   182.930  0.0678  0.0503  0.2601    0.5391  7083.3317   \n",
      "1      10.534    34.534  0.1049  0.0451  0.1574    0.4671  1249.9998   \n",
      "5      28.934    63.934  0.5333  0.4522  0.1665    0.3975  4583.3320   \n",
      "7      21.714    56.714  0.0678  0.0789  0.0102    0.0209  2083.3332   \n",
      "20     18.522    53.522  0.5333  0.4522  0.0156    0.0058  7916.6663   \n",
      "...       ...       ...     ...     ...     ...       ...        ...   \n",
      "1161   49.572    74.572  0.2537  0.1498  0.6817    2.3014  5416.6667   \n",
      "1165   30.888    55.888  0.2537  0.1498  0.6817    2.3014  2916.6666   \n",
      "1168   97.812   132.812  0.0678  0.0789  0.0897    1.0905  2916.6666   \n",
      "1172   45.402    63.902  0.2537  0.1498  0.0233    0.0219  2083.3332   \n",
      "1175  114.402   149.402  0.0678  0.0789  0.0102    0.0209  6250.0013   \n",
      "\n",
      "      log_income    pdiff  \n",
      "0       8.865500   25.000  \n",
      "1       7.130899   19.420  \n",
      "5       8.430182  128.540  \n",
      "7       7.641724   41.580  \n",
      "20      8.976725  292.222  \n",
      "...          ...      ...  \n",
      "1161    8.597236   42.496  \n",
      "1165    7.978197   41.924  \n",
      "1168    7.978197   49.084  \n",
      "1172    7.641724   18.500  \n",
      "1175    8.740337   28.368  \n",
      "\n",
      "[452 rows x 16 columns]\n",
      "pier       Unnamed: 0  Unnamed: 0.1  mode    price   catch   pbeach    ppier  \\\n",
      "3              3             4  pier   15.134  0.0789   15.134   15.134   \n",
      "10            10            11  pier   34.914  0.0451   34.914   34.914   \n",
      "12            12            13  pier   17.862  0.0451   17.862   17.862   \n",
      "13            13            14  pier   15.134  0.0789   15.134   15.134   \n",
      "15            15            16  pier   33.534  0.0789   33.534   33.534   \n",
      "...          ...           ...   ...      ...     ...      ...      ...   \n",
      "1163        1163          1164  pier   23.276  0.1498   23.276   23.276   \n",
      "1166        1166          1167  pier   52.488  0.4522   52.488   52.488   \n",
      "1169        1169          1170  pier   23.688  0.4522   23.688   23.688   \n",
      "1177        1177          1178  pier  150.236  0.4522  150.236  150.236   \n",
      "1179        1179          1180  pier   65.036  0.4522   65.036   65.036   \n",
      "\n",
      "        pboat  pcharter  cbeach   cpier   cboat  ccharter     income  \\\n",
      "3      55.930    84.930  0.0678  0.0789  0.1643    0.5391  2083.3332   \n",
      "10     24.334    48.334  0.1049  0.0451  0.1574    0.4671  3749.9999   \n",
      "12      4.122    28.122  0.1049  0.0451  0.0023    0.0046  1249.9998   \n",
      "13     55.930    84.930  0.0678  0.0789  0.0014    0.0029  2083.3332   \n",
      "15    123.930   152.930  0.0678  0.0789  0.1643    0.5391  5416.6667   \n",
      "...       ...       ...     ...     ...     ...       ...        ...   \n",
      "1163  100.510   119.010  0.2537  0.1498  0.0082    0.0044  3749.9999   \n",
      "1166  309.096   344.096  0.5333  0.4522  0.0156    0.0058  5416.6667   \n",
      "1169  139.496   174.496  0.5333  0.4522  0.2413    1.0266  2083.3332   \n",
      "1177  250.746   285.746  0.5333  0.4522  0.2413    1.0266  3749.9999   \n",
      "1179  108.546   143.546  0.5333  0.4522  0.2413    1.0266  1249.9998   \n",
      "\n",
      "      log_income  pdiff  \n",
      "3       7.641724    0.0  \n",
      "10      8.229511    0.0  \n",
      "12      7.130899    0.0  \n",
      "13      7.641724    0.0  \n",
      "15      8.597236    0.0  \n",
      "...          ...    ...  \n",
      "1163    8.229511    0.0  \n",
      "1166    8.597236    0.0  \n",
      "1169    7.641724    0.0  \n",
      "1177    8.229511    0.0  \n",
      "1179    7.130899    0.0  \n",
      "\n",
      "[178 rows x 16 columns]\n"
     ]
    }
   ],
   "source": [
    "for name, data in dat.groupby(\"mode\"):\n",
    "    print(name, data) "
   ]
  },
  {
   "cell_type": "markdown",
   "metadata": {
    "colab_type": "text",
    "id": "XOv77OsdjF_B"
   },
   "source": [
    "**Подсказка 2:** для сохранения датафрейма в файл используется метод `.to_csv()`. Например, такой код сохранит датафрейм `dat` в файл `\"Fish.csv\"`:"
   ]
  },
  {
   "cell_type": "code",
   "execution_count": 447,
   "metadata": {
    "colab": {},
    "colab_type": "code",
    "id": "Pqu3iSoUjF_E"
   },
   "outputs": [],
   "source": [
    "dat.to_csv(\"Fish.csv\")"
   ]
  },
  {
   "cell_type": "markdown",
   "metadata": {
    "colab_type": "text",
    "id": "oqHSgJF1jF_K"
   },
   "source": [
    "**Подсказка 3:** для склеивания строк можно использовать оператор `+`, например:"
   ]
  },
  {
   "cell_type": "code",
   "execution_count": 448,
   "metadata": {
    "colab": {},
    "colab_type": "code",
    "id": "5q4QrwSjjF_M",
    "outputId": "4cefdb62-1fd9-4983-e5b6-932a4dbd4f35"
   },
   "outputs": [
    {
     "data": {
      "text/plain": [
       "'my_file.xlsx'"
      ]
     },
     "execution_count": 448,
     "metadata": {},
     "output_type": "execute_result"
    }
   ],
   "source": [
    "\"my_file\" + \".xlsx\""
   ]
  },
  {
   "cell_type": "code",
   "execution_count": 449,
   "metadata": {
    "colab": {},
    "colab_type": "code",
    "id": "-fNqxf6WjF_V"
   },
   "outputs": [],
   "source": [
    "for name, data in dat.groupby(\"mode\"):\n",
    "    data.to_csv(f'{name}.csv')"
   ]
  },
  {
   "cell_type": "markdown",
   "metadata": {
    "colab_type": "text",
    "id": "0-2KFE5GjF_Z"
   },
   "source": [
    "### Задание 7\n",
    "\n",
    "Отсортировать строки в датафрейме в соответствии со значениями `income` в порядке убывания таким образом, чтобы результаты сортировки сохранились в исходном датафрейме."
   ]
  },
  {
   "cell_type": "code",
   "execution_count": 450,
   "metadata": {
    "colab": {},
    "colab_type": "code",
    "id": "oFzcnf6YjF_a"
   },
   "outputs": [],
   "source": [
    "data.sort_values('income', ascending = False, inplace=True)"
   ]
  },
  {
   "cell_type": "markdown",
   "metadata": {
    "colab_type": "text",
    "id": "OBEI5NDFjF_e"
   },
   "source": [
    "### Задание 8\n",
    "\n",
    "Отсортировать строки в датафрейме в соответствии со значениями `price` и `income` в порядке возрастания. Можно ли сказать, что люди с более низким доходом и выбравшие более дешёвый тип рыбалки, в целом, предпочитают один тип рыбалки, а люди с более высоким доходом и более дорогой рыбалкой – другой? Ответ записать в виде текстовой ячейки или в виде комментария."
   ]
  },
  {
   "cell_type": "code",
   "execution_count": 451,
   "metadata": {
    "colab": {},
    "colab_type": "code",
    "id": "k5CTodiMjF_g"
   },
   "outputs": [
    {
     "data": {
      "text/html": [
       "<div>\n",
       "<style scoped>\n",
       "    .dataframe tbody tr th:only-of-type {\n",
       "        vertical-align: middle;\n",
       "    }\n",
       "\n",
       "    .dataframe tbody tr th {\n",
       "        vertical-align: top;\n",
       "    }\n",
       "\n",
       "    .dataframe thead th {\n",
       "        text-align: right;\n",
       "    }\n",
       "</style>\n",
       "<table border=\"1\" class=\"dataframe\">\n",
       "  <thead>\n",
       "    <tr style=\"text-align: right;\">\n",
       "      <th></th>\n",
       "      <th>count</th>\n",
       "      <th>income</th>\n",
       "      <th>price</th>\n",
       "      <th>avg_more_income_price</th>\n",
       "      <th>avg_less_income_price</th>\n",
       "      <th>procent_people_more_inplace</th>\n",
       "      <th>procent_people_less_inplace</th>\n",
       "    </tr>\n",
       "    <tr>\n",
       "      <th>mode</th>\n",
       "      <th></th>\n",
       "      <th></th>\n",
       "      <th></th>\n",
       "      <th></th>\n",
       "      <th></th>\n",
       "      <th></th>\n",
       "      <th></th>\n",
       "    </tr>\n",
       "  </thead>\n",
       "  <tbody>\n",
       "    <tr>\n",
       "      <th>pier</th>\n",
       "      <td>178</td>\n",
       "      <td>2916.6666</td>\n",
       "      <td>16.629</td>\n",
       "      <td>38.566</td>\n",
       "      <td>12.870</td>\n",
       "      <td>28.0</td>\n",
       "      <td>72.0</td>\n",
       "    </tr>\n",
       "    <tr>\n",
       "      <th>beach</th>\n",
       "      <td>134</td>\n",
       "      <td>3749.9999</td>\n",
       "      <td>19.308</td>\n",
       "      <td>27.870</td>\n",
       "      <td>12.870</td>\n",
       "      <td>37.0</td>\n",
       "      <td>63.0</td>\n",
       "    </tr>\n",
       "    <tr>\n",
       "      <th>boat</th>\n",
       "      <td>418</td>\n",
       "      <td>3749.9999</td>\n",
       "      <td>24.602</td>\n",
       "      <td>36.482</td>\n",
       "      <td>12.870</td>\n",
       "      <td>49.0</td>\n",
       "      <td>51.0</td>\n",
       "    </tr>\n",
       "    <tr>\n",
       "      <th>charter</th>\n",
       "      <td>452</td>\n",
       "      <td>3749.9999</td>\n",
       "      <td>56.870</td>\n",
       "      <td>72.740</td>\n",
       "      <td>49.401</td>\n",
       "      <td>36.0</td>\n",
       "      <td>64.0</td>\n",
       "    </tr>\n",
       "  </tbody>\n",
       "</table>\n",
       "</div>"
      ],
      "text/plain": [
       "         count     income   price  avg_more_income_price  \\\n",
       "mode                                                       \n",
       "pier       178  2916.6666  16.629                 38.566   \n",
       "beach      134  3749.9999  19.308                 27.870   \n",
       "boat       418  3749.9999  24.602                 36.482   \n",
       "charter    452  3749.9999  56.870                 72.740   \n",
       "\n",
       "         avg_less_income_price  procent_people_more_inplace  \\\n",
       "mode                                                          \n",
       "pier                    12.870                         28.0   \n",
       "beach                   12.870                         37.0   \n",
       "boat                    12.870                         49.0   \n",
       "charter                 49.401                         36.0   \n",
       "\n",
       "         procent_people_less_inplace  \n",
       "mode                                  \n",
       "pier                            72.0  \n",
       "beach                           63.0  \n",
       "boat                            51.0  \n",
       "charter                         64.0  "
      ]
     },
     "execution_count": 451,
     "metadata": {},
     "output_type": "execute_result"
    }
   ],
   "source": [
    "dat.sort_values(['price', 'income'], inplace=True)\n",
    "\n",
    "dat_avg = dat.groupby('mode').median()[['price', 'income']]\n",
    "dat_avg['count'] = dat.groupby('mode').count()['price']\n",
    "\n",
    "avg_median_income = dat['income'].median()\n",
    "\n",
    "arr_price_cnt = []\n",
    "arr_avg_price = []\n",
    "for index in dat_avg.index:\n",
    "    arr_price_cnt.append(dat[(dat['mode'] == index) & (dat['income'] > dat['income'].median())]['price'].count())\n",
    "    arr_avg_price.append(dat[(dat['mode'] == index) & (dat['income'] > dat['income'].median())]['price'].median())\n",
    "\n",
    "dat_avg['cnt_more_income_price'] = arr_price_cnt\n",
    "dat_avg['avg_more_income_price'] = arr_avg_price\n",
    "\n",
    "arr_price_cnt = []\n",
    "arr_avg_price = []\n",
    "for index in dat_avg.index:\n",
    "    arr_price_cnt.append(dat[(dat['mode'] == index) & (dat['income'] <= dat['income'].median())]['price'].count())\n",
    "    arr_avg_price.append(dat[(dat['mode'] == index) & (dat['income'] <= dat['income'].median())]['price'].median())\n",
    "# Todo Интересно, а как можно было сделать функию вместо циклов? я не понял как можно сгрупировать и приментить те же условия к группе внутри функции в agg или apply\n",
    "\n",
    "dat_avg['cnt_less_income_price'] = arr_price_cnt\n",
    "dat_avg['avg_less_income_price'] = arr_avg_price\n",
    "\n",
    "\n",
    "dat_avg['procent_people_more_inplace'] = np.round(dat_avg['cnt_more_income_price'] / dat_avg['count'] * 100)\n",
    "dat_avg['procent_people_less_inplace'] = np.round(dat_avg['cnt_less_income_price'] / dat_avg['count'] * 100)\n",
    "dat_avg.sort_values(['price', 'income'])\n",
    "\n",
    "\n",
    "\n",
    "# Сложно ответить на вопрос: Большой размах в ценах и разное количество людей\n",
    "# можно разделить людей с наименьшим и наибольшим доходом:\n",
    "\n",
    "# cnt_more_income_price - количество людей с доходом больше среднего\n",
    "# avg_more_income_price - средняя цена рыбалки, людей с доходом больше среднего\n",
    "# cnt_less_income_price - количество людей с доходом меньше среднего\n",
    "# avg_less_income_price - средняя цена рыбалки, людей с доходом меньше среднего\n",
    "# procent_people_more_inplace - процент людей в типе с наибольшим доходом\n",
    "# procent_people_more_inplace - процент людей в типе с наименьшим доходом\n",
    "\n",
    "dat_avg[['count', 'income', 'price', 'avg_more_income_price', 'avg_less_income_price', 'procent_people_more_inplace', 'procent_people_less_inplace']].sort_values(['price', 'income'])\n",
    "# В итоге:\n",
    "#  Видно что доход влияет на цену потраченную за рыбалку, но типом рыбалкой пользуются люди как с наименьшим так и с наибольшим доходом"
   ]
  },
  {
   "cell_type": "markdown",
   "metadata": {
    "colab_type": "text",
    "id": "MFxbxsb9jF_n"
   },
   "source": [
    "### Задание 9\n",
    "\n",
    "Любым известным способом проверить, есть ли в датафрейме пропущенные значения. Если есть, удалить строки с пропущенными значениями. Если нет, написать комментарий, что таких нет."
   ]
  },
  {
   "cell_type": "code",
   "execution_count": 452,
   "metadata": {
    "colab": {},
    "colab_type": "code",
    "id": "VBlnzIiyjF_o"
   },
   "outputs": [
    {
     "data": {
      "text/plain": [
       "Unnamed: 0      0\n",
       "Unnamed: 0.1    0\n",
       "mode            0\n",
       "price           0\n",
       "catch           0\n",
       "pbeach          0\n",
       "ppier           0\n",
       "pboat           0\n",
       "pcharter        0\n",
       "cbeach          0\n",
       "cpier           0\n",
       "cboat           0\n",
       "ccharter        0\n",
       "income          0\n",
       "log_income      0\n",
       "pdiff           0\n",
       "dtype: int64"
      ]
     },
     "execution_count": 452,
     "metadata": {},
     "output_type": "execute_result"
    }
   ],
   "source": [
    "# dat.info()\n",
    "dat.isnull().sum()\n",
    "# Пропущенных значений нет"
   ]
  },
  {
   "cell_type": "markdown",
   "metadata": {
    "colab_type": "text",
    "id": "jeFnySMWjF_s"
   },
   "source": [
    ".<br> .<br> .<br> .<br> .<br> .<br> .<br> .<br> .<br> .<br> .<br> .<br> .<br> .<br> .<br> .<br> .<br> .<br> \n",
    "# Дополнительное (необязательное) задание.\n",
    "<br>"
   ]
  },
  {
   "cell_type": "markdown",
   "metadata": {
    "colab_type": "text",
    "id": "4HEGeC5MjF_t"
   },
   "source": [
    "### Задание 1\n",
    "\n",
    "Загрузить датафрейм из файла `wgi_fh.csv`, учитывая, что в качестве разделителя столбцов используется точка с запятой, а в качестве десятичного разделителя – запятая (опции `sep=` и `decimal=` в функции `read_csv()` соответственно).\n",
    "\n",
    "Файл содержит данные за 2016 по различным политологическим индексам. Датафрейм содержит следующие столбцы:\n",
    "\n",
    "* `country`: страна;\n",
    "* `cnt_code`: код страны (аббревиатура);\n",
    "* `year`: год;\n",
    "* `va`: индекс подотчётности *Voice & Accountability (WGI)*;\n",
    "* `ps`: индекс политической стабильности *Political Stability and Lack of Violence (WGI)*;\n",
    "* `ge`: индекс эффективности правительства *Government Effectiveness (WGI)*;\n",
    "* `rq`: индекс качества управления *Regulatory Quality (WGI)*;\n",
    "* `rl`: индекс верховенства закона *Rule of Law (WGI)*;\n",
    "* `cc`: индекс контроля коррупции *Control of Corruption (WGI)*;\n",
    "* `fh`: индекс свободы *Freedom House (Freedom Rating)*.\n",
    "\n",
    "Подробнее про индексы можно почитать на этой [странице](https://www.hse.ru/org/hse/4432173/mathbase/databases/db_18)."
   ]
  },
  {
   "cell_type": "code",
   "execution_count": 453,
   "metadata": {
    "colab": {},
    "colab_type": "code",
    "id": "aQnqZrDYjF_v"
   },
   "outputs": [],
   "source": [
    "import pandas as pd\n",
    "dt_wgi = pd.read_csv('wgi_fh.csv', sep=';', decimal=',')"
   ]
  },
  {
   "cell_type": "markdown",
   "metadata": {
    "colab_type": "text",
    "id": "njU246bujF_y"
   },
   "source": [
    "### Задание 2\n",
    "\n",
    "Вывести общую информацию по датафрейму: число строк и столбцов, типы данных в таблице. Есть ли в таблице пропущенные значения? Привести код и дать ответ в виде комментария."
   ]
  },
  {
   "cell_type": "code",
   "execution_count": 454,
   "metadata": {
    "colab": {},
    "colab_type": "code",
    "id": "W9TiFV3TjF_0"
   },
   "outputs": [
    {
     "name": "stdout",
     "output_type": "stream",
     "text": [
      "<class 'pandas.core.frame.DataFrame'>\n",
      "RangeIndex: 214 entries, 0 to 213\n",
      "Data columns (total 10 columns):\n",
      " #   Column    Non-Null Count  Dtype  \n",
      "---  ------    --------------  -----  \n",
      " 0   country   214 non-null    object \n",
      " 1   cnt_code  214 non-null    object \n",
      " 2   year      214 non-null    int64  \n",
      " 3   va        204 non-null    float64\n",
      " 4   ps        211 non-null    float64\n",
      " 5   ge        209 non-null    float64\n",
      " 6   rq        209 non-null    float64\n",
      " 7   rl        209 non-null    float64\n",
      " 8   cc        209 non-null    float64\n",
      " 9   fh        197 non-null    float64\n",
      "dtypes: float64(7), int64(1), object(2)\n",
      "memory usage: 16.8+ KB\n"
     ]
    }
   ],
   "source": [
    "dt_wgi.info()\n",
    "# строки с пропущенными значениями\n",
    "#  6.  ps        211 non-null    float64\n",
    "#  5   ge        209 non-null    float64\n",
    "#  6   rq        209 non-null    float64\n",
    "#  7   rl        209 non-null    float64\n",
    "#  8   cc        209 non-null    float64\n",
    "#  9   fh        197 non-null    float64\n",
    "\n",
    "# колонки 0-1 строки\n",
    "# колонка 2 целое число\n",
    "# колонки 3-9 float"
   ]
  },
  {
   "cell_type": "markdown",
   "metadata": {
    "colab_type": "text",
    "id": "7s_WD8DTjF_6"
   },
   "source": [
    "### Задание 3\n",
    "\n",
    "Если в датафрейме есть строки с пропущенными значениями, удалить их. Сохранить изменения в исходном датафрейме."
   ]
  },
  {
   "cell_type": "code",
   "execution_count": 455,
   "metadata": {
    "colab": {},
    "colab_type": "code",
    "id": "HbyEb_fwjF_7"
   },
   "outputs": [
    {
     "data": {
      "text/plain": [
       "country     0\n",
       "cnt_code    0\n",
       "year        0\n",
       "va          0\n",
       "ps          0\n",
       "ge          0\n",
       "rq          0\n",
       "rl          0\n",
       "cc          0\n",
       "fh          0\n",
       "dtype: int64"
      ]
     },
     "execution_count": 455,
     "metadata": {},
     "output_type": "execute_result"
    }
   ],
   "source": [
    "dt_wgi.dropna(inplace=True)\n",
    "dt_wgi.isnull().sum()"
   ]
  },
  {
   "cell_type": "markdown",
   "metadata": {
    "colab_type": "text",
    "id": "T5YfVjHwjF__"
   },
   "source": [
    "### Задание 4\n",
    "\n",
    "Назвать строки в датафрейме в соответствии со столбцом `cnt_code`. Удалить данный столбец из датафрейма."
   ]
  },
  {
   "cell_type": "code",
   "execution_count": 456,
   "metadata": {
    "colab": {},
    "colab_type": "code",
    "id": "e4mX0KCIjF__"
   },
   "outputs": [],
   "source": [
    "dt_wgi.set_index('cnt_code', inplace=True)"
   ]
  },
  {
   "cell_type": "markdown",
   "metadata": {
    "colab_type": "text",
    "id": "vrvfA7sWjGAE"
   },
   "source": [
    "### Задание 5\n",
    "\n",
    "Отсортировать строки в таблице в соответствии со значениями столбцов с индексами *Control of Corruption*  и *Voice & Accountability* таким образом, чтобы результаты сортировки были сохранены сразу в исходном датафрейме."
   ]
  },
  {
   "cell_type": "code",
   "execution_count": 457,
   "metadata": {
    "colab": {},
    "colab_type": "code",
    "id": "5tAViW2FjGAI"
   },
   "outputs": [],
   "source": [
    "dt_wgi.sort_values(['cc', 'va'], inplace=True)"
   ]
  },
  {
   "cell_type": "markdown",
   "metadata": {
    "colab_type": "text",
    "id": "t-Dva5hwjGAM"
   },
   "source": [
    "### Задание 6\n",
    "\n",
    "Используя метод `.apply()`, создать столбец `cc_round` со значениями индекса *Control of Corruption*, округлёнными до первого знака после запятой. "
   ]
  },
  {
   "cell_type": "code",
   "execution_count": 458,
   "metadata": {
    "colab": {},
    "colab_type": "code",
    "id": "yJZsJOfMjGAN"
   },
   "outputs": [],
   "source": [
    "dt_wgi['cc_round'] = dt_wgi['cc'].apply(lambda val: round(val, 1))"
   ]
  },
  {
   "cell_type": "markdown",
   "metadata": {
    "colab_type": "text",
    "id": "RseUYnUqjGAP"
   },
   "source": [
    "### Задание 7\n",
    "\n",
    "Добавить в датафрейм столбец `fh_status`, в котором будут храниться типы стран в зависимости от значения индекса *Freedom House* (значения типов стран: `\"free\"`, `\"partly free\"`, `\"not free\"`). Соответствие значений `fh` типам стран см. в Table 3 в конце [этой](https://freedomhouse.org/sites/default/files/2020-02/Methodology_FIW_2016.pdf) страницы.\n",
    "\n",
    "**Подсказка:** здесь понадобится функция, которая возвращает разные значения в зависимости от выполнения условий. Её можно написать через `def` или `lambda`. Больше про функции можно почитать на [pythontutor.ru](https://pythontutor.ru/lessons/functions/)."
   ]
  },
  {
   "cell_type": "code",
   "execution_count": 459,
   "metadata": {
    "colab": {},
    "colab_type": "code",
    "id": "1MJxDyU1jGAQ"
   },
   "outputs": [],
   "source": [
    "def get_type_fh(val):\n",
    "    if 1.0 <= val <= 2.5:\n",
    "        return 'Free'\n",
    "    elif 3.0 <= val <= 5.0:\n",
    "        return 'Partly Free'\n",
    "    elif 5.5 <= val <= 7.0:\n",
    "        return 'Not Free'\n",
    "    else:\n",
    "        return None\n",
    "\n",
    "dt_wgi['fh_status'] = dt_wgi['fh'].apply(get_type_fh)"
   ]
  },
  {
   "cell_type": "markdown",
   "metadata": {
    "colab_type": "text",
    "id": "qwCG-4vqjGAT"
   },
   "source": [
    "### Задание 8\n",
    "\n",
    "Сгруппировать строки в датафрейме в соответствии со значениями столбца `fh_status`, полученного в предыдущем задании и вывести минимальное, среднее и максимальное значение показателя *Political Stability and Lack of Violence* по каждой группе."
   ]
  },
  {
   "cell_type": "code",
   "execution_count": 460,
   "metadata": {
    "colab": {},
    "colab_type": "code",
    "id": "K3M5g1LqjGAV"
   },
   "outputs": [
    {
     "data": {
      "text/html": [
       "<div>\n",
       "<style scoped>\n",
       "    .dataframe tbody tr th:only-of-type {\n",
       "        vertical-align: middle;\n",
       "    }\n",
       "\n",
       "    .dataframe tbody tr th {\n",
       "        vertical-align: top;\n",
       "    }\n",
       "\n",
       "    .dataframe thead th {\n",
       "        text-align: right;\n",
       "    }\n",
       "</style>\n",
       "<table border=\"1\" class=\"dataframe\">\n",
       "  <thead>\n",
       "    <tr style=\"text-align: right;\">\n",
       "      <th></th>\n",
       "      <th>min</th>\n",
       "      <th>mean</th>\n",
       "      <th>max</th>\n",
       "    </tr>\n",
       "    <tr>\n",
       "      <th>fh_status</th>\n",
       "      <th></th>\n",
       "      <th></th>\n",
       "      <th></th>\n",
       "    </tr>\n",
       "  </thead>\n",
       "  <tbody>\n",
       "    <tr>\n",
       "      <th>Free</th>\n",
       "      <td>-0.99</td>\n",
       "      <td>0.619059</td>\n",
       "      <td>1.49</td>\n",
       "    </tr>\n",
       "    <tr>\n",
       "      <th>Not Free</th>\n",
       "      <td>-2.91</td>\n",
       "      <td>-0.875800</td>\n",
       "      <td>1.26</td>\n",
       "    </tr>\n",
       "    <tr>\n",
       "      <th>Partly Free</th>\n",
       "      <td>-2.47</td>\n",
       "      <td>-0.424000</td>\n",
       "      <td>1.53</td>\n",
       "    </tr>\n",
       "  </tbody>\n",
       "</table>\n",
       "</div>"
      ],
      "text/plain": [
       "              min      mean   max\n",
       "fh_status                        \n",
       "Free        -0.99  0.619059  1.49\n",
       "Not Free    -2.91 -0.875800  1.26\n",
       "Partly Free -2.47 -0.424000  1.53"
      ]
     },
     "execution_count": 460,
     "metadata": {},
     "output_type": "execute_result"
    }
   ],
   "source": [
    "dt_wgi.groupby('fh_status')['ps'].agg(['min', 'mean','max'], inplace=True)"
   ]
  },
  {
   "cell_type": "markdown",
   "metadata": {
    "colab_type": "text",
    "id": "RCcvXHJ4jGAZ"
   },
   "source": [
    "### Задание 9\n",
    "\n",
    "Сгруппировать строки в датафрейме в соответствии со значениями столбца `fh_status` и записать строки, относящиеся к разным группам, в отдельные csv-файлы.\n",
    "\n",
    "**Подсказка 1:** цикл `for`.\n",
    "\n",
    "**Подсказка 2:**  [метод](https://pandas.pydata.org/pandas-docs/stable/reference/api/pandas.DataFrame.to_csv.html) `.to_csv()` для выгрузки датафреймов `pandas` в csv-файлы."
   ]
  },
  {
   "cell_type": "code",
   "execution_count": 461,
   "metadata": {
    "colab": {},
    "colab_type": "code",
    "id": "UTIfZA7WjGAa"
   },
   "outputs": [],
   "source": [
    "for name, df in dt_wgi.groupby('fh_status'):\n",
    "    df.to_csv(f\"{name}.csv\")"
   ]
  },
  {
   "cell_type": "markdown",
   "metadata": {
    "colab_type": "text",
    "id": "WmmH2iXXjGAe"
   },
   "source": [
    "### Задание 10\n",
    "\n",
    "Создайте (любым способом) маленький датафрейм, состоящий из двух столбцов:\n",
    "\n",
    "* `fh_type`: тип страны;\n",
    "* `count`: число стран данного типа.\n",
    "\n",
    "    Постройте, используя полученный датафрейм, столбиковую диаграмму (*barplot*), опираясь на [эту](https://pandas.pydata.org/pandas-docs/stable/reference/api/pandas.DataFrame.plot.bar.html) документацию. Чтобы увидеть график явно, прямо в текущем ноутбуке, допишите в начале ячейки с кодом для графика следующую строку:\n",
    "    \n",
    "        %matplotlib inline\n",
    "\n",
    "**Подсказка:** число наблюдений — это функция `count`, её можно использовать наравне с `min`, `mean` и прочими."
   ]
  },
  {
   "cell_type": "code",
   "execution_count": 462,
   "metadata": {
    "colab": {},
    "colab_type": "code",
    "id": "n-AeX5eejGAe"
   },
   "outputs": [],
   "source": [
    "dt_new = dt_wgi.groupby('fh_status')['country'].count()\n",
    "dt_new = pd.DataFrame([list(val) for val in zip(list(dt_new.index), list(dt_new[:]))], columns=['fh_type','count'])"
   ]
  },
  {
   "cell_type": "code",
   "execution_count": 463,
   "metadata": {},
   "outputs": [
    {
     "data": {
      "text/plain": [
       "<AxesSubplot:xlabel='fh_type'>"
      ]
     },
     "execution_count": 463,
     "metadata": {},
     "output_type": "execute_result"
    },
    {
     "data": {
      "image/png": "[encoded data removed]",
      "text/plain": [
       "<Figure size 432x288 with 1 Axes>"
      ]
     },
     "metadata": {
      "needs_background": "light"
     },
     "output_type": "display_data"
    }
   ],
   "source": [
    "%matplotlib inline\n",
    "dt_new.plot.bar(x='fh_type', y='count', rot=0)"
   ]
  },
  {
   "cell_type": "code",
   "execution_count": null,
   "metadata": {},
   "outputs": [],
   "source": []
  }
 ],
 "metadata": {
  "colab": {
   "collapsed_sections": [],
   "name": "jun_anl_pandas2.ipynb",
   "provenance": []
  },
  "kernelspec": {
   "display_name": "Python 3",
   "language": "python",
   "name": "python3"
  },
  "language_info": {
   "codemirror_mode": {
    "name": "ipython",
    "version": 3
   },
   "file_extension": ".py",
   "mimetype": "text/x-python",
   "name": "python",
   "nbconvert_exporter": "python",
   "pygments_lexer": "ipython3",
   "version": "3.8.5"
  }
 },
 "nbformat": 4,
 "nbformat_minor": 4
}
